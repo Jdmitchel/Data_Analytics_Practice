{
 "cells": [
  {
   "cell_type": "markdown",
   "metadata": {},
   "source": [
    "# Python library installation. \n",
    "`The initial code was commened out to prevent excessive load time, if the library is missing uncomment the code.`"
   ]
  },
  {
   "cell_type": "code",
   "execution_count": 2,
   "metadata": {},
   "outputs": [
    {
     "data": {
      "text/plain": [
       "' !pip install plotly\\n!pip install --upgrade nbformat\\n '"
      ]
     },
     "execution_count": 2,
     "metadata": {},
     "output_type": "execute_result"
    }
   ],
   "source": [
    "\"\"\" !pip install plotly\n",
    "!pip install --upgrade nbformat\n",
    " \"\"\""
   ]
  },
  {
   "cell_type": "markdown",
   "metadata": {},
   "source": [
    "# Importing libraries for use."
   ]
  },
  {
   "cell_type": "code",
   "execution_count": 3,
   "metadata": {},
   "outputs": [
    {
     "name": "stderr",
     "output_type": "stream",
     "text": [
      "C:\\Users\\jmitc\\AppData\\Local\\Temp\\ipykernel_21656\\1681320482.py:1: DeprecationWarning: \n",
      "Pyarrow will become a required dependency of pandas in the next major release of pandas (pandas 3.0),\n",
      "(to allow more performant data types, such as the Arrow string type, and better interoperability with other libraries)\n",
      "but was not found to be installed on your system.\n",
      "If this would cause problems for you,\n",
      "please provide us feedback at https://github.com/pandas-dev/pandas/issues/54466\n",
      "        \n",
      "  import pandas as pd\n"
     ]
    }
   ],
   "source": [
    "import pandas as pd\n",
    "import numpy as np\n",
    "from matplotlib import pyplot as plt\n",
    "import plotly.express as px\n"
   ]
  },
  {
   "cell_type": "markdown",
   "metadata": {},
   "source": [
    "## Reading the csv file.\n",
    "- `The file is in the same directory as the notebook, so not file path is neccesary.`"
   ]
  },
  {
   "cell_type": "code",
   "execution_count": 4,
   "metadata": {},
   "outputs": [],
   "source": [
    "df = pd.read_csv(\"FOUN5.csv\")"
   ]
  },
  {
   "cell_type": "markdown",
   "metadata": {},
   "source": [
    "- `viewing the data from the csv and storing it into a dataframe.`\n",
    "> A datafram is a data structure consisting of rows and columns. similar to an excel spreadsheet."
   ]
  },
  {
   "cell_type": "code",
   "execution_count": 5,
   "metadata": {},
   "outputs": [
    {
     "data": {
      "text/html": [
       "<div>\n",
       "<style scoped>\n",
       "    .dataframe tbody tr th:only-of-type {\n",
       "        vertical-align: middle;\n",
       "    }\n",
       "\n",
       "    .dataframe tbody tr th {\n",
       "        vertical-align: top;\n",
       "    }\n",
       "\n",
       "    .dataframe thead th {\n",
       "        text-align: right;\n",
       "    }\n",
       "</style>\n",
       "<table border=\"1\" class=\"dataframe\">\n",
       "  <thead>\n",
       "    <tr style=\"text-align: right;\">\n",
       "      <th></th>\n",
       "      <th>YEAR</th>\n",
       "      <th>EDUCATION</th>\n",
       "      <th>FOOD</th>\n",
       "      <th>MORTGAGE</th>\n",
       "      <th>TRANSPORTATION</th>\n",
       "      <th>UTILITY BILLS</th>\n",
       "      <th>MISCELLANY</th>\n",
       "    </tr>\n",
       "  </thead>\n",
       "  <tbody>\n",
       "    <tr>\n",
       "      <th>0</th>\n",
       "      <td>2023</td>\n",
       "      <td>22000</td>\n",
       "      <td>42000</td>\n",
       "      <td>90000</td>\n",
       "      <td>18000</td>\n",
       "      <td>24000</td>\n",
       "      <td>36000</td>\n",
       "    </tr>\n",
       "    <tr>\n",
       "      <th>1</th>\n",
       "      <td>2024</td>\n",
       "      <td>27270</td>\n",
       "      <td>43000</td>\n",
       "      <td>90000</td>\n",
       "      <td>20000</td>\n",
       "      <td>25000</td>\n",
       "      <td>36000</td>\n",
       "    </tr>\n",
       "  </tbody>\n",
       "</table>\n",
       "</div>"
      ],
      "text/plain": [
       "   YEAR  EDUCATION   FOOD  MORTGAGE  TRANSPORTATION  UTILITY BILLS  MISCELLANY\n",
       "0  2023      22000  42000     90000           18000          24000       36000\n",
       "1  2024      27270  43000     90000           20000          25000       36000"
      ]
     },
     "execution_count": 5,
     "metadata": {},
     "output_type": "execute_result"
    }
   ],
   "source": [
    "df"
   ]
  },
  {
   "cell_type": "markdown",
   "metadata": {},
   "source": [
    "- `The annual income was calculated previously, thus it was hard coded and added into the datafram as a new column.`\n",
    "- `input was commented out, since no user input is necessary.`"
   ]
  },
  {
   "cell_type": "code",
   "execution_count": 6,
   "metadata": {},
   "outputs": [],
   "source": [
    "#annual_income = input(\"annual_income: \")\n",
    "annual_income = 264626.28\n",
    "annual_income = float(annual_income)\n",
    "df['Annual Income'] = annual_income"
   ]
  },
  {
   "cell_type": "markdown",
   "metadata": {},
   "source": [
    "## Functions for calculating the total data and budget percentage utilization."
   ]
  },
  {
   "cell_type": "code",
   "execution_count": 7,
   "metadata": {},
   "outputs": [
    {
     "data": {
      "text/html": [
       "<div>\n",
       "<style scoped>\n",
       "    .dataframe tbody tr th:only-of-type {\n",
       "        vertical-align: middle;\n",
       "    }\n",
       "\n",
       "    .dataframe tbody tr th {\n",
       "        vertical-align: top;\n",
       "    }\n",
       "\n",
       "    .dataframe thead th {\n",
       "        text-align: right;\n",
       "    }\n",
       "</style>\n",
       "<table border=\"1\" class=\"dataframe\">\n",
       "  <thead>\n",
       "    <tr style=\"text-align: right;\">\n",
       "      <th></th>\n",
       "      <th>YEAR</th>\n",
       "      <th>EDUCATION</th>\n",
       "      <th>FOOD</th>\n",
       "      <th>MORTGAGE</th>\n",
       "      <th>TRANSPORTATION</th>\n",
       "      <th>UTILITY BILLS</th>\n",
       "      <th>MISCELLANY</th>\n",
       "      <th>Annual Income</th>\n",
       "      <th>Budget Total</th>\n",
       "    </tr>\n",
       "  </thead>\n",
       "  <tbody>\n",
       "    <tr>\n",
       "      <th>0</th>\n",
       "      <td>2023</td>\n",
       "      <td>22000</td>\n",
       "      <td>42000</td>\n",
       "      <td>90000</td>\n",
       "      <td>18000</td>\n",
       "      <td>24000</td>\n",
       "      <td>36000</td>\n",
       "      <td>264626.28</td>\n",
       "      <td>196000</td>\n",
       "    </tr>\n",
       "    <tr>\n",
       "      <th>1</th>\n",
       "      <td>2024</td>\n",
       "      <td>27270</td>\n",
       "      <td>43000</td>\n",
       "      <td>90000</td>\n",
       "      <td>20000</td>\n",
       "      <td>25000</td>\n",
       "      <td>36000</td>\n",
       "      <td>264626.28</td>\n",
       "      <td>205270</td>\n",
       "    </tr>\n",
       "  </tbody>\n",
       "</table>\n",
       "</div>"
      ],
      "text/plain": [
       "   YEAR  EDUCATION   FOOD  MORTGAGE  TRANSPORTATION  UTILITY BILLS  \\\n",
       "0  2023      22000  42000     90000           18000          24000   \n",
       "1  2024      27270  43000     90000           20000          25000   \n",
       "\n",
       "   MISCELLANY  Annual Income  Budget Total  \n",
       "0       36000      264626.28        196000  \n",
       "1       36000      264626.28        205270  "
      ]
     },
     "execution_count": 7,
     "metadata": {},
     "output_type": "execute_result"
    }
   ],
   "source": [
    "#sum the year 2023\n",
    "def addRow():\n",
    "    df['Budget Total'] = df.iloc[:, 1:6].sum(axis=1)\n",
    "    return df\n",
    "dfr1 = addRow()\n",
    "dfr1"
   ]
  },
  {
   "cell_type": "code",
   "execution_count": 8,
   "metadata": {},
   "outputs": [
    {
     "data": {
      "text/html": [
       "<div>\n",
       "<style scoped>\n",
       "    .dataframe tbody tr th:only-of-type {\n",
       "        vertical-align: middle;\n",
       "    }\n",
       "\n",
       "    .dataframe tbody tr th {\n",
       "        vertical-align: top;\n",
       "    }\n",
       "\n",
       "    .dataframe thead th {\n",
       "        text-align: right;\n",
       "    }\n",
       "</style>\n",
       "<table border=\"1\" class=\"dataframe\">\n",
       "  <thead>\n",
       "    <tr style=\"text-align: right;\">\n",
       "      <th></th>\n",
       "      <th>YEAR</th>\n",
       "      <th>EDUCATION</th>\n",
       "      <th>FOOD</th>\n",
       "      <th>MORTGAGE</th>\n",
       "      <th>TRANSPORTATION</th>\n",
       "      <th>UTILITY BILLS</th>\n",
       "      <th>MISCELLANY</th>\n",
       "      <th>Annual Income</th>\n",
       "      <th>Budget Total</th>\n",
       "      <th>%</th>\n",
       "    </tr>\n",
       "  </thead>\n",
       "  <tbody>\n",
       "    <tr>\n",
       "      <th>0</th>\n",
       "      <td>2023</td>\n",
       "      <td>22000</td>\n",
       "      <td>42000</td>\n",
       "      <td>90000</td>\n",
       "      <td>18000</td>\n",
       "      <td>24000</td>\n",
       "      <td>36000</td>\n",
       "      <td>264626.28</td>\n",
       "      <td>196000</td>\n",
       "      <td>74.07</td>\n",
       "    </tr>\n",
       "    <tr>\n",
       "      <th>1</th>\n",
       "      <td>2024</td>\n",
       "      <td>27270</td>\n",
       "      <td>43000</td>\n",
       "      <td>90000</td>\n",
       "      <td>20000</td>\n",
       "      <td>25000</td>\n",
       "      <td>36000</td>\n",
       "      <td>264626.28</td>\n",
       "      <td>205270</td>\n",
       "      <td>77.57</td>\n",
       "    </tr>\n",
       "  </tbody>\n",
       "</table>\n",
       "</div>"
      ],
      "text/plain": [
       "   YEAR  EDUCATION   FOOD  MORTGAGE  TRANSPORTATION  UTILITY BILLS  \\\n",
       "0  2023      22000  42000     90000           18000          24000   \n",
       "1  2024      27270  43000     90000           20000          25000   \n",
       "\n",
       "   MISCELLANY  Annual Income  Budget Total      %  \n",
       "0       36000      264626.28        196000  74.07  \n",
       "1       36000      264626.28        205270  77.57  "
      ]
     },
     "execution_count": 8,
     "metadata": {},
     "output_type": "execute_result"
    }
   ],
   "source": [
    "# calculate how much % of the total income each year is\n",
    "def percentage():\n",
    "    df['%'] = (df['Budget Total'] / df['Annual Income']) * 100\n",
    "    df['%'] = df['%'].apply(lambda x: round(x, 2))\n",
    "    return df\n",
    "dfr2 = percentage()\n",
    "dfr2"
   ]
  },
  {
   "cell_type": "markdown",
   "metadata": {},
   "source": [
    "## Percentage of expenditure as it relates to the annual Pascal family income."
   ]
  },
  {
   "cell_type": "code",
   "execution_count": 9,
   "metadata": {},
   "outputs": [
    {
     "data": {
      "text/html": [
       "<div>\n",
       "<style scoped>\n",
       "    .dataframe tbody tr th:only-of-type {\n",
       "        vertical-align: middle;\n",
       "    }\n",
       "\n",
       "    .dataframe tbody tr th {\n",
       "        vertical-align: top;\n",
       "    }\n",
       "\n",
       "    .dataframe thead th {\n",
       "        text-align: right;\n",
       "    }\n",
       "</style>\n",
       "<table border=\"1\" class=\"dataframe\">\n",
       "  <thead>\n",
       "    <tr style=\"text-align: right;\">\n",
       "      <th></th>\n",
       "      <th>YEAR</th>\n",
       "      <th>EDUCATION</th>\n",
       "      <th>FOOD</th>\n",
       "      <th>MORTGAGE</th>\n",
       "      <th>TRANSPORTATION</th>\n",
       "      <th>UTILITY BILLS</th>\n",
       "      <th>MISCELLANY</th>\n",
       "      <th>Annual Income</th>\n",
       "      <th>Budget Total</th>\n",
       "      <th>%</th>\n",
       "      <th>EDUCATION %</th>\n",
       "      <th>FOOD %</th>\n",
       "      <th>MORTGAGE %</th>\n",
       "      <th>TRANSPORTATION %</th>\n",
       "      <th>UTILITY BILLS %</th>\n",
       "      <th>MISCELLANY %</th>\n",
       "    </tr>\n",
       "  </thead>\n",
       "  <tbody>\n",
       "    <tr>\n",
       "      <th>0</th>\n",
       "      <td>2023</td>\n",
       "      <td>22000</td>\n",
       "      <td>42000</td>\n",
       "      <td>90000</td>\n",
       "      <td>18000</td>\n",
       "      <td>24000</td>\n",
       "      <td>36000</td>\n",
       "      <td>264626.28</td>\n",
       "      <td>196000</td>\n",
       "      <td>74.07</td>\n",
       "      <td>8.31</td>\n",
       "      <td>15.87</td>\n",
       "      <td>34.01</td>\n",
       "      <td>6.80</td>\n",
       "      <td>9.07</td>\n",
       "      <td>13.6</td>\n",
       "    </tr>\n",
       "    <tr>\n",
       "      <th>1</th>\n",
       "      <td>2024</td>\n",
       "      <td>27270</td>\n",
       "      <td>43000</td>\n",
       "      <td>90000</td>\n",
       "      <td>20000</td>\n",
       "      <td>25000</td>\n",
       "      <td>36000</td>\n",
       "      <td>264626.28</td>\n",
       "      <td>205270</td>\n",
       "      <td>77.57</td>\n",
       "      <td>10.31</td>\n",
       "      <td>16.25</td>\n",
       "      <td>34.01</td>\n",
       "      <td>7.56</td>\n",
       "      <td>9.45</td>\n",
       "      <td>13.6</td>\n",
       "    </tr>\n",
       "  </tbody>\n",
       "</table>\n",
       "</div>"
      ],
      "text/plain": [
       "   YEAR  EDUCATION   FOOD  MORTGAGE  TRANSPORTATION  UTILITY BILLS  \\\n",
       "0  2023      22000  42000     90000           18000          24000   \n",
       "1  2024      27270  43000     90000           20000          25000   \n",
       "\n",
       "   MISCELLANY  Annual Income  Budget Total      %  EDUCATION %  FOOD %  \\\n",
       "0       36000      264626.28        196000  74.07         8.31   15.87   \n",
       "1       36000      264626.28        205270  77.57        10.31   16.25   \n",
       "\n",
       "   MORTGAGE %  TRANSPORTATION %  UTILITY BILLS %  MISCELLANY %  \n",
       "0       34.01              6.80             9.07          13.6  \n",
       "1       34.01              7.56             9.45          13.6  "
      ]
     },
     "execution_count": 9,
     "metadata": {},
     "output_type": "execute_result"
    }
   ],
   "source": [
    "for col in ['EDUCATION', 'FOOD', 'MORTGAGE', 'TRANSPORTATION', 'UTILITY BILLS', 'MISCELLANY']:\n",
    "    df[f'{col} %'] = df[col] / df['Annual Income'] * 100\n",
    "    df[f'{col} %'] = df[f'{col} %'].apply(lambda x: round(x, 2))\n",
    "\n",
    "df"
   ]
  },
  {
   "cell_type": "markdown",
   "metadata": {},
   "source": [
    "## Percentage of expenditure as it relates to the Pascal family budget."
   ]
  },
  {
   "cell_type": "code",
   "execution_count": 10,
   "metadata": {},
   "outputs": [
    {
     "data": {
      "text/html": [
       "<div>\n",
       "<style scoped>\n",
       "    .dataframe tbody tr th:only-of-type {\n",
       "        vertical-align: middle;\n",
       "    }\n",
       "\n",
       "    .dataframe tbody tr th {\n",
       "        vertical-align: top;\n",
       "    }\n",
       "\n",
       "    .dataframe thead th {\n",
       "        text-align: right;\n",
       "    }\n",
       "</style>\n",
       "<table border=\"1\" class=\"dataframe\">\n",
       "  <thead>\n",
       "    <tr style=\"text-align: right;\">\n",
       "      <th></th>\n",
       "      <th>YEAR</th>\n",
       "      <th>EDUCATION</th>\n",
       "      <th>FOOD</th>\n",
       "      <th>MORTGAGE</th>\n",
       "      <th>TRANSPORTATION</th>\n",
       "      <th>UTILITY BILLS</th>\n",
       "      <th>MISCELLANY</th>\n",
       "      <th>Annual Income</th>\n",
       "      <th>Budget Total</th>\n",
       "      <th>%</th>\n",
       "      <th>...</th>\n",
       "      <th>MORTGAGE %</th>\n",
       "      <th>TRANSPORTATION %</th>\n",
       "      <th>UTILITY BILLS %</th>\n",
       "      <th>MISCELLANY %</th>\n",
       "      <th>EDUCATION Budget %</th>\n",
       "      <th>FOOD Budget %</th>\n",
       "      <th>MORTGAGE Budget %</th>\n",
       "      <th>TRANSPORTATION Budget %</th>\n",
       "      <th>UTILITY BILLS Budget %</th>\n",
       "      <th>MISCELLANY Budget %</th>\n",
       "    </tr>\n",
       "  </thead>\n",
       "  <tbody>\n",
       "    <tr>\n",
       "      <th>0</th>\n",
       "      <td>2023</td>\n",
       "      <td>22000</td>\n",
       "      <td>42000</td>\n",
       "      <td>90000</td>\n",
       "      <td>18000</td>\n",
       "      <td>24000</td>\n",
       "      <td>36000</td>\n",
       "      <td>264626.28</td>\n",
       "      <td>196000</td>\n",
       "      <td>74.07</td>\n",
       "      <td>...</td>\n",
       "      <td>34.01</td>\n",
       "      <td>6.80</td>\n",
       "      <td>9.07</td>\n",
       "      <td>13.6</td>\n",
       "      <td>11.22</td>\n",
       "      <td>21.43</td>\n",
       "      <td>45.92</td>\n",
       "      <td>9.18</td>\n",
       "      <td>12.24</td>\n",
       "      <td>18.37</td>\n",
       "    </tr>\n",
       "    <tr>\n",
       "      <th>1</th>\n",
       "      <td>2024</td>\n",
       "      <td>27270</td>\n",
       "      <td>43000</td>\n",
       "      <td>90000</td>\n",
       "      <td>20000</td>\n",
       "      <td>25000</td>\n",
       "      <td>36000</td>\n",
       "      <td>264626.28</td>\n",
       "      <td>205270</td>\n",
       "      <td>77.57</td>\n",
       "      <td>...</td>\n",
       "      <td>34.01</td>\n",
       "      <td>7.56</td>\n",
       "      <td>9.45</td>\n",
       "      <td>13.6</td>\n",
       "      <td>13.28</td>\n",
       "      <td>20.95</td>\n",
       "      <td>43.84</td>\n",
       "      <td>9.74</td>\n",
       "      <td>12.18</td>\n",
       "      <td>17.54</td>\n",
       "    </tr>\n",
       "  </tbody>\n",
       "</table>\n",
       "<p>2 rows × 22 columns</p>\n",
       "</div>"
      ],
      "text/plain": [
       "   YEAR  EDUCATION   FOOD  MORTGAGE  TRANSPORTATION  UTILITY BILLS  \\\n",
       "0  2023      22000  42000     90000           18000          24000   \n",
       "1  2024      27270  43000     90000           20000          25000   \n",
       "\n",
       "   MISCELLANY  Annual Income  Budget Total      %  ...  MORTGAGE %  \\\n",
       "0       36000      264626.28        196000  74.07  ...       34.01   \n",
       "1       36000      264626.28        205270  77.57  ...       34.01   \n",
       "\n",
       "   TRANSPORTATION %  UTILITY BILLS %  MISCELLANY %  EDUCATION Budget %  \\\n",
       "0              6.80             9.07          13.6               11.22   \n",
       "1              7.56             9.45          13.6               13.28   \n",
       "\n",
       "   FOOD Budget %  MORTGAGE Budget %  TRANSPORTATION Budget %  \\\n",
       "0          21.43              45.92                     9.18   \n",
       "1          20.95              43.84                     9.74   \n",
       "\n",
       "   UTILITY BILLS Budget %  MISCELLANY Budget %  \n",
       "0                   12.24                18.37  \n",
       "1                   12.18                17.54  \n",
       "\n",
       "[2 rows x 22 columns]"
      ]
     },
     "execution_count": 10,
     "metadata": {},
     "output_type": "execute_result"
    }
   ],
   "source": [
    "for col in ['EDUCATION', 'FOOD', 'MORTGAGE', 'TRANSPORTATION', 'UTILITY BILLS', 'MISCELLANY']:\n",
    "    df[f'{col} Budget %'] = df[col] / df['Budget Total'] * 100\n",
    "    df[f'{col} Budget %'] = df[f'{col} Budget %'].apply(lambda x: round(x, 2))\n",
    "\n",
    "df"
   ]
  },
  {
   "cell_type": "markdown",
   "metadata": {},
   "source": [
    "## Budget Visualization"
   ]
  },
  {
   "cell_type": "code",
   "execution_count": 11,
   "metadata": {},
   "outputs": [],
   "source": [
    "df_melted = df.melt(id_vars=['YEAR'], value_vars=['EDUCATION %', 'FOOD %', 'MORTGAGE %', 'TRANSPORTATION %', 'UTILITY BILLS %', 'MISCELLANY %'],\n",
    "                    var_name='CATEGORY', value_name='PERCENT')\n",
    "\n",
    "category = {'EDUCATION %': 'EDUCATION', 'FOOD %': 'FOOD', 'MORTGAGE %': 'MORTGAGE', 'TRANSPORTATION %': 'TRANSPORTATION', 'UTILITY BILLS %': 'UTILITY BILLS', 'MISCELLANY %': 'MISCELLANY'}\n",
    "df_melted['CATEGORY'] = df_melted['CATEGORY'].map(category)"
   ]
  },
  {
   "cell_type": "code",
   "execution_count": 12,
   "metadata": {},
   "outputs": [
    {
     "data": {
      "application/vnd.plotly.v1+json": {
       "config": {
        "plotlyServerURL": "https://plot.ly"
       },
       "data": [
        {
         "alignmentgroup": "True",
         "hovertemplate": "Category=EDUCATION<br>Year=%{x}<br>Percentage of Total Income=%{y:.2f%}<extra></extra>",
         "legendgroup": "EDUCATION",
         "marker": {
          "color": "#636efa",
          "pattern": {
           "shape": ""
          }
         },
         "name": "EDUCATION",
         "offsetgroup": "EDUCATION",
         "orientation": "v",
         "showlegend": true,
         "textposition": "auto",
         "type": "bar",
         "x": [
          2023,
          2024
         ],
         "xaxis": "x",
         "y": [
          8.31,
          10.31
         ],
         "yaxis": "y"
        },
        {
         "alignmentgroup": "True",
         "hovertemplate": "Category=FOOD<br>Year=%{x}<br>Percentage of Total Income=%{y:.2f%}<extra></extra>",
         "legendgroup": "FOOD",
         "marker": {
          "color": "#EF553B",
          "pattern": {
           "shape": ""
          }
         },
         "name": "FOOD",
         "offsetgroup": "FOOD",
         "orientation": "v",
         "showlegend": true,
         "textposition": "auto",
         "type": "bar",
         "x": [
          2023,
          2024
         ],
         "xaxis": "x",
         "y": [
          15.87,
          16.25
         ],
         "yaxis": "y"
        },
        {
         "alignmentgroup": "True",
         "hovertemplate": "Category=MORTGAGE<br>Year=%{x}<br>Percentage of Total Income=%{y:.2f%}<extra></extra>",
         "legendgroup": "MORTGAGE",
         "marker": {
          "color": "#00cc96",
          "pattern": {
           "shape": ""
          }
         },
         "name": "MORTGAGE",
         "offsetgroup": "MORTGAGE",
         "orientation": "v",
         "showlegend": true,
         "textposition": "auto",
         "type": "bar",
         "x": [
          2023,
          2024
         ],
         "xaxis": "x",
         "y": [
          34.01,
          34.01
         ],
         "yaxis": "y"
        },
        {
         "alignmentgroup": "True",
         "hovertemplate": "Category=TRANSPORTATION<br>Year=%{x}<br>Percentage of Total Income=%{y:.2f%}<extra></extra>",
         "legendgroup": "TRANSPORTATION",
         "marker": {
          "color": "#ab63fa",
          "pattern": {
           "shape": ""
          }
         },
         "name": "TRANSPORTATION",
         "offsetgroup": "TRANSPORTATION",
         "orientation": "v",
         "showlegend": true,
         "textposition": "auto",
         "type": "bar",
         "x": [
          2023,
          2024
         ],
         "xaxis": "x",
         "y": [
          6.8,
          7.56
         ],
         "yaxis": "y"
        },
        {
         "alignmentgroup": "True",
         "hovertemplate": "Category=UTILITY BILLS<br>Year=%{x}<br>Percentage of Total Income=%{y:.2f%}<extra></extra>",
         "legendgroup": "UTILITY BILLS",
         "marker": {
          "color": "#FFA15A",
          "pattern": {
           "shape": ""
          }
         },
         "name": "UTILITY BILLS",
         "offsetgroup": "UTILITY BILLS",
         "orientation": "v",
         "showlegend": true,
         "textposition": "auto",
         "type": "bar",
         "x": [
          2023,
          2024
         ],
         "xaxis": "x",
         "y": [
          9.07,
          9.45
         ],
         "yaxis": "y"
        },
        {
         "alignmentgroup": "True",
         "hovertemplate": "Category=MISCELLANY<br>Year=%{x}<br>Percentage of Total Income=%{y:.2f%}<extra></extra>",
         "legendgroup": "MISCELLANY",
         "marker": {
          "color": "#19d3f3",
          "pattern": {
           "shape": ""
          }
         },
         "name": "MISCELLANY",
         "offsetgroup": "MISCELLANY",
         "orientation": "v",
         "showlegend": true,
         "textposition": "auto",
         "type": "bar",
         "x": [
          2023,
          2024
         ],
         "xaxis": "x",
         "y": [
          13.6,
          13.6
         ],
         "yaxis": "y"
        }
       ],
       "layout": {
        "barmode": "group",
        "hovermode": "x unified",
        "legend": {
         "title": {
          "text": "Category"
         },
         "tracegroupgap": 0
        },
        "template": {
         "data": {
          "bar": [
           {
            "error_x": {
             "color": "#2a3f5f"
            },
            "error_y": {
             "color": "#2a3f5f"
            },
            "marker": {
             "line": {
              "color": "#E5ECF6",
              "width": 0.5
             },
             "pattern": {
              "fillmode": "overlay",
              "size": 10,
              "solidity": 0.2
             }
            },
            "type": "bar"
           }
          ],
          "barpolar": [
           {
            "marker": {
             "line": {
              "color": "#E5ECF6",
              "width": 0.5
             },
             "pattern": {
              "fillmode": "overlay",
              "size": 10,
              "solidity": 0.2
             }
            },
            "type": "barpolar"
           }
          ],
          "carpet": [
           {
            "aaxis": {
             "endlinecolor": "#2a3f5f",
             "gridcolor": "white",
             "linecolor": "white",
             "minorgridcolor": "white",
             "startlinecolor": "#2a3f5f"
            },
            "baxis": {
             "endlinecolor": "#2a3f5f",
             "gridcolor": "white",
             "linecolor": "white",
             "minorgridcolor": "white",
             "startlinecolor": "#2a3f5f"
            },
            "type": "carpet"
           }
          ],
          "choropleth": [
           {
            "colorbar": {
             "outlinewidth": 0,
             "ticks": ""
            },
            "type": "choropleth"
           }
          ],
          "contour": [
           {
            "colorbar": {
             "outlinewidth": 0,
             "ticks": ""
            },
            "colorscale": [
             [
              0,
              "#0d0887"
             ],
             [
              0.1111111111111111,
              "#46039f"
             ],
             [
              0.2222222222222222,
              "#7201a8"
             ],
             [
              0.3333333333333333,
              "#9c179e"
             ],
             [
              0.4444444444444444,
              "#bd3786"
             ],
             [
              0.5555555555555556,
              "#d8576b"
             ],
             [
              0.6666666666666666,
              "#ed7953"
             ],
             [
              0.7777777777777778,
              "#fb9f3a"
             ],
             [
              0.8888888888888888,
              "#fdca26"
             ],
             [
              1,
              "#f0f921"
             ]
            ],
            "type": "contour"
           }
          ],
          "contourcarpet": [
           {
            "colorbar": {
             "outlinewidth": 0,
             "ticks": ""
            },
            "type": "contourcarpet"
           }
          ],
          "heatmap": [
           {
            "colorbar": {
             "outlinewidth": 0,
             "ticks": ""
            },
            "colorscale": [
             [
              0,
              "#0d0887"
             ],
             [
              0.1111111111111111,
              "#46039f"
             ],
             [
              0.2222222222222222,
              "#7201a8"
             ],
             [
              0.3333333333333333,
              "#9c179e"
             ],
             [
              0.4444444444444444,
              "#bd3786"
             ],
             [
              0.5555555555555556,
              "#d8576b"
             ],
             [
              0.6666666666666666,
              "#ed7953"
             ],
             [
              0.7777777777777778,
              "#fb9f3a"
             ],
             [
              0.8888888888888888,
              "#fdca26"
             ],
             [
              1,
              "#f0f921"
             ]
            ],
            "type": "heatmap"
           }
          ],
          "heatmapgl": [
           {
            "colorbar": {
             "outlinewidth": 0,
             "ticks": ""
            },
            "colorscale": [
             [
              0,
              "#0d0887"
             ],
             [
              0.1111111111111111,
              "#46039f"
             ],
             [
              0.2222222222222222,
              "#7201a8"
             ],
             [
              0.3333333333333333,
              "#9c179e"
             ],
             [
              0.4444444444444444,
              "#bd3786"
             ],
             [
              0.5555555555555556,
              "#d8576b"
             ],
             [
              0.6666666666666666,
              "#ed7953"
             ],
             [
              0.7777777777777778,
              "#fb9f3a"
             ],
             [
              0.8888888888888888,
              "#fdca26"
             ],
             [
              1,
              "#f0f921"
             ]
            ],
            "type": "heatmapgl"
           }
          ],
          "histogram": [
           {
            "marker": {
             "pattern": {
              "fillmode": "overlay",
              "size": 10,
              "solidity": 0.2
             }
            },
            "type": "histogram"
           }
          ],
          "histogram2d": [
           {
            "colorbar": {
             "outlinewidth": 0,
             "ticks": ""
            },
            "colorscale": [
             [
              0,
              "#0d0887"
             ],
             [
              0.1111111111111111,
              "#46039f"
             ],
             [
              0.2222222222222222,
              "#7201a8"
             ],
             [
              0.3333333333333333,
              "#9c179e"
             ],
             [
              0.4444444444444444,
              "#bd3786"
             ],
             [
              0.5555555555555556,
              "#d8576b"
             ],
             [
              0.6666666666666666,
              "#ed7953"
             ],
             [
              0.7777777777777778,
              "#fb9f3a"
             ],
             [
              0.8888888888888888,
              "#fdca26"
             ],
             [
              1,
              "#f0f921"
             ]
            ],
            "type": "histogram2d"
           }
          ],
          "histogram2dcontour": [
           {
            "colorbar": {
             "outlinewidth": 0,
             "ticks": ""
            },
            "colorscale": [
             [
              0,
              "#0d0887"
             ],
             [
              0.1111111111111111,
              "#46039f"
             ],
             [
              0.2222222222222222,
              "#7201a8"
             ],
             [
              0.3333333333333333,
              "#9c179e"
             ],
             [
              0.4444444444444444,
              "#bd3786"
             ],
             [
              0.5555555555555556,
              "#d8576b"
             ],
             [
              0.6666666666666666,
              "#ed7953"
             ],
             [
              0.7777777777777778,
              "#fb9f3a"
             ],
             [
              0.8888888888888888,
              "#fdca26"
             ],
             [
              1,
              "#f0f921"
             ]
            ],
            "type": "histogram2dcontour"
           }
          ],
          "mesh3d": [
           {
            "colorbar": {
             "outlinewidth": 0,
             "ticks": ""
            },
            "type": "mesh3d"
           }
          ],
          "parcoords": [
           {
            "line": {
             "colorbar": {
              "outlinewidth": 0,
              "ticks": ""
             }
            },
            "type": "parcoords"
           }
          ],
          "pie": [
           {
            "automargin": true,
            "type": "pie"
           }
          ],
          "scatter": [
           {
            "fillpattern": {
             "fillmode": "overlay",
             "size": 10,
             "solidity": 0.2
            },
            "type": "scatter"
           }
          ],
          "scatter3d": [
           {
            "line": {
             "colorbar": {
              "outlinewidth": 0,
              "ticks": ""
             }
            },
            "marker": {
             "colorbar": {
              "outlinewidth": 0,
              "ticks": ""
             }
            },
            "type": "scatter3d"
           }
          ],
          "scattercarpet": [
           {
            "marker": {
             "colorbar": {
              "outlinewidth": 0,
              "ticks": ""
             }
            },
            "type": "scattercarpet"
           }
          ],
          "scattergeo": [
           {
            "marker": {
             "colorbar": {
              "outlinewidth": 0,
              "ticks": ""
             }
            },
            "type": "scattergeo"
           }
          ],
          "scattergl": [
           {
            "marker": {
             "colorbar": {
              "outlinewidth": 0,
              "ticks": ""
             }
            },
            "type": "scattergl"
           }
          ],
          "scattermapbox": [
           {
            "marker": {
             "colorbar": {
              "outlinewidth": 0,
              "ticks": ""
             }
            },
            "type": "scattermapbox"
           }
          ],
          "scatterpolar": [
           {
            "marker": {
             "colorbar": {
              "outlinewidth": 0,
              "ticks": ""
             }
            },
            "type": "scatterpolar"
           }
          ],
          "scatterpolargl": [
           {
            "marker": {
             "colorbar": {
              "outlinewidth": 0,
              "ticks": ""
             }
            },
            "type": "scatterpolargl"
           }
          ],
          "scatterternary": [
           {
            "marker": {
             "colorbar": {
              "outlinewidth": 0,
              "ticks": ""
             }
            },
            "type": "scatterternary"
           }
          ],
          "surface": [
           {
            "colorbar": {
             "outlinewidth": 0,
             "ticks": ""
            },
            "colorscale": [
             [
              0,
              "#0d0887"
             ],
             [
              0.1111111111111111,
              "#46039f"
             ],
             [
              0.2222222222222222,
              "#7201a8"
             ],
             [
              0.3333333333333333,
              "#9c179e"
             ],
             [
              0.4444444444444444,
              "#bd3786"
             ],
             [
              0.5555555555555556,
              "#d8576b"
             ],
             [
              0.6666666666666666,
              "#ed7953"
             ],
             [
              0.7777777777777778,
              "#fb9f3a"
             ],
             [
              0.8888888888888888,
              "#fdca26"
             ],
             [
              1,
              "#f0f921"
             ]
            ],
            "type": "surface"
           }
          ],
          "table": [
           {
            "cells": {
             "fill": {
              "color": "#EBF0F8"
             },
             "line": {
              "color": "white"
             }
            },
            "header": {
             "fill": {
              "color": "#C8D4E3"
             },
             "line": {
              "color": "white"
             }
            },
            "type": "table"
           }
          ]
         },
         "layout": {
          "annotationdefaults": {
           "arrowcolor": "#2a3f5f",
           "arrowhead": 0,
           "arrowwidth": 1
          },
          "autotypenumbers": "strict",
          "coloraxis": {
           "colorbar": {
            "outlinewidth": 0,
            "ticks": ""
           }
          },
          "colorscale": {
           "diverging": [
            [
             0,
             "#8e0152"
            ],
            [
             0.1,
             "#c51b7d"
            ],
            [
             0.2,
             "#de77ae"
            ],
            [
             0.3,
             "#f1b6da"
            ],
            [
             0.4,
             "#fde0ef"
            ],
            [
             0.5,
             "#f7f7f7"
            ],
            [
             0.6,
             "#e6f5d0"
            ],
            [
             0.7,
             "#b8e186"
            ],
            [
             0.8,
             "#7fbc41"
            ],
            [
             0.9,
             "#4d9221"
            ],
            [
             1,
             "#276419"
            ]
           ],
           "sequential": [
            [
             0,
             "#0d0887"
            ],
            [
             0.1111111111111111,
             "#46039f"
            ],
            [
             0.2222222222222222,
             "#7201a8"
            ],
            [
             0.3333333333333333,
             "#9c179e"
            ],
            [
             0.4444444444444444,
             "#bd3786"
            ],
            [
             0.5555555555555556,
             "#d8576b"
            ],
            [
             0.6666666666666666,
             "#ed7953"
            ],
            [
             0.7777777777777778,
             "#fb9f3a"
            ],
            [
             0.8888888888888888,
             "#fdca26"
            ],
            [
             1,
             "#f0f921"
            ]
           ],
           "sequentialminus": [
            [
             0,
             "#0d0887"
            ],
            [
             0.1111111111111111,
             "#46039f"
            ],
            [
             0.2222222222222222,
             "#7201a8"
            ],
            [
             0.3333333333333333,
             "#9c179e"
            ],
            [
             0.4444444444444444,
             "#bd3786"
            ],
            [
             0.5555555555555556,
             "#d8576b"
            ],
            [
             0.6666666666666666,
             "#ed7953"
            ],
            [
             0.7777777777777778,
             "#fb9f3a"
            ],
            [
             0.8888888888888888,
             "#fdca26"
            ],
            [
             1,
             "#f0f921"
            ]
           ]
          },
          "colorway": [
           "#636efa",
           "#EF553B",
           "#00cc96",
           "#ab63fa",
           "#FFA15A",
           "#19d3f3",
           "#FF6692",
           "#B6E880",
           "#FF97FF",
           "#FECB52"
          ],
          "font": {
           "color": "#2a3f5f"
          },
          "geo": {
           "bgcolor": "white",
           "lakecolor": "white",
           "landcolor": "#E5ECF6",
           "showlakes": true,
           "showland": true,
           "subunitcolor": "white"
          },
          "hoverlabel": {
           "align": "left"
          },
          "hovermode": "closest",
          "mapbox": {
           "style": "light"
          },
          "paper_bgcolor": "white",
          "plot_bgcolor": "#E5ECF6",
          "polar": {
           "angularaxis": {
            "gridcolor": "white",
            "linecolor": "white",
            "ticks": ""
           },
           "bgcolor": "#E5ECF6",
           "radialaxis": {
            "gridcolor": "white",
            "linecolor": "white",
            "ticks": ""
           }
          },
          "scene": {
           "xaxis": {
            "backgroundcolor": "#E5ECF6",
            "gridcolor": "white",
            "gridwidth": 2,
            "linecolor": "white",
            "showbackground": true,
            "ticks": "",
            "zerolinecolor": "white"
           },
           "yaxis": {
            "backgroundcolor": "#E5ECF6",
            "gridcolor": "white",
            "gridwidth": 2,
            "linecolor": "white",
            "showbackground": true,
            "ticks": "",
            "zerolinecolor": "white"
           },
           "zaxis": {
            "backgroundcolor": "#E5ECF6",
            "gridcolor": "white",
            "gridwidth": 2,
            "linecolor": "white",
            "showbackground": true,
            "ticks": "",
            "zerolinecolor": "white"
           }
          },
          "shapedefaults": {
           "line": {
            "color": "#2a3f5f"
           }
          },
          "ternary": {
           "aaxis": {
            "gridcolor": "white",
            "linecolor": "white",
            "ticks": ""
           },
           "baxis": {
            "gridcolor": "white",
            "linecolor": "white",
            "ticks": ""
           },
           "bgcolor": "#E5ECF6",
           "caxis": {
            "gridcolor": "white",
            "linecolor": "white",
            "ticks": ""
           }
          },
          "title": {
           "x": 0.05
          },
          "xaxis": {
           "automargin": true,
           "gridcolor": "white",
           "linecolor": "white",
           "ticks": "",
           "title": {
            "standoff": 15
           },
           "zerolinecolor": "white",
           "zerolinewidth": 2
          },
          "yaxis": {
           "automargin": true,
           "gridcolor": "white",
           "linecolor": "white",
           "ticks": "",
           "title": {
            "standoff": 15
           },
           "zerolinecolor": "white",
           "zerolinewidth": 2
          }
         }
        },
        "title": {
         "text": "House Hold Budget Trends"
        },
        "xaxis": {
         "anchor": "y",
         "domain": [
          0,
          1
         ],
         "title": {
          "text": "Year"
         }
        },
        "yaxis": {
         "anchor": "x",
         "domain": [
          0,
          1
         ],
         "title": {
          "text": "Percentage of Total Income"
         }
        }
       }
      }
     },
     "metadata": {},
     "output_type": "display_data"
    }
   ],
   "source": [
    "fig = px.bar(df_melted, x='YEAR', y='PERCENT', color='CATEGORY', title='House Hold Budget Trends', labels={'PERCENT': 'Percentage of Total Income', 'YEAR': 'Year', 'CATEGORY': 'Category'}, barmode='group', hover_data={'PERCENT': ':.2f%'})\n",
    "\n",
    "fig.update_layout(hovermode='x unified')\n",
    "\n",
    "fig.show()\n"
   ]
  },
  {
   "cell_type": "code",
   "execution_count": 13,
   "metadata": {},
   "outputs": [],
   "source": [
    "# export graph to html\n",
    "fig.write_html(\"HouseHoldBudgetTrends.html\")"
   ]
  }
 ],
 "metadata": {
  "kernelspec": {
   "display_name": "Lab-Examples",
   "language": "python",
   "name": "python3"
  },
  "language_info": {
   "codemirror_mode": {
    "name": "ipython",
    "version": 3
   },
   "file_extension": ".py",
   "mimetype": "text/x-python",
   "name": "python",
   "nbconvert_exporter": "python",
   "pygments_lexer": "ipython3",
   "version": "3.12.1"
  }
 },
 "nbformat": 4,
 "nbformat_minor": 2
}
